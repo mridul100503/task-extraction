{
 "cells": [
  {
   "cell_type": "code",
   "execution_count": 2,
   "id": "dd71c049-028e-451f-9484-b723a415a61f",
   "metadata": {},
   "outputs": [
    {
     "name": "stderr",
     "output_type": "stream",
     "text": [
      "C:\\Users\\Mridul\\AppData\\Local\\Programs\\Python\\Python312\\Lib\\site-packages\\torch\\utils\\_pytree.py:185: FutureWarning: optree is installed but the version is too old to support PyTorch Dynamo in C++ pytree. C++ pytree support is disabled. Please consider upgrading optree using `python3 -m pip install --upgrade 'optree>=0.13.0'`.\n",
      "  warnings.warn(\n"
     ]
    }
   ],
   "source": [
    "import os\n",
    "import sys\n",
    "import contextlib\n",
    "import logging\n",
    "\n",
    "# Suppress verbose logs from gensim, nltk, and spacy\n",
    "logging.getLogger(\"gensim\").setLevel(logging.ERROR)\n",
    "logging.getLogger(\"nltk\").setLevel(logging.ERROR)\n",
    "logging.getLogger(\"spacy\").setLevel(logging.ERROR)\n",
    "\n",
    "# -----------------------------\n",
    "# 1. SETUP & NLTK RESOURCE DOWNLOAD\n",
    "# -----------------------------\n",
    "import nltk\n",
    "import spacy    # Added import spacy\n",
    "import numpy as np  # Added import numpy\n",
    "\n",
    "# Redirect output to suppress \"Requirement already satisfied\" messages\n",
    "with open(os.devnull, \"w\") as fnull:\n",
    "    with contextlib.redirect_stdout(fnull), contextlib.redirect_stderr(fnull):\n",
    "        nltk.download(\"punkt\", quiet=True)\n",
    "        nltk.download(\"stopwords\", quiet=True)\n",
    "        nltk.download(\"averaged_perceptron_tagger\", quiet=True)\n",
    "        nltk.download(\"wordnet\", quiet=True)\n"
   ]
  },
  {
   "cell_type": "code",
   "execution_count": 5,
   "id": "173af652-b6ec-4d54-a982-598f6b7c51a3",
   "metadata": {},
   "outputs": [
    {
     "name": "stdout",
     "output_type": "stream",
     "text": [
      "Requirement already satisfied: spacy in c:\\users\\mridul\\appdata\\local\\programs\\python\\python312\\lib\\site-packages (3.8.4)\n",
      "Requirement already satisfied: nltk in c:\\users\\mridul\\appdata\\local\\programs\\python\\python312\\lib\\site-packages (3.8.1)\n",
      "Requirement already satisfied: spacy-legacy<3.1.0,>=3.0.11 in c:\\users\\mridul\\appdata\\local\\programs\\python\\python312\\lib\\site-packages (from spacy) (3.0.12)\n",
      "Requirement already satisfied: spacy-loggers<2.0.0,>=1.0.0 in c:\\users\\mridul\\appdata\\local\\programs\\python\\python312\\lib\\site-packages (from spacy) (1.0.5)\n",
      "Requirement already satisfied: murmurhash<1.1.0,>=0.28.0 in c:\\users\\mridul\\appdata\\local\\programs\\python\\python312\\lib\\site-packages (from spacy) (1.0.12)\n",
      "Requirement already satisfied: cymem<2.1.0,>=2.0.2 in c:\\users\\mridul\\appdata\\local\\programs\\python\\python312\\lib\\site-packages (from spacy) (2.0.11)\n",
      "Requirement already satisfied: preshed<3.1.0,>=3.0.2 in c:\\users\\mridul\\appdata\\local\\programs\\python\\python312\\lib\\site-packages (from spacy) (3.0.9)\n",
      "Requirement already satisfied: thinc<8.4.0,>=8.3.4 in c:\\users\\mridul\\appdata\\local\\programs\\python\\python312\\lib\\site-packages (from spacy) (8.3.4)\n",
      "Requirement already satisfied: wasabi<1.2.0,>=0.9.1 in c:\\users\\mridul\\appdata\\local\\programs\\python\\python312\\lib\\site-packages (from spacy) (1.1.3)\n",
      "Requirement already satisfied: srsly<3.0.0,>=2.4.3 in c:\\users\\mridul\\appdata\\local\\programs\\python\\python312\\lib\\site-packages (from spacy) (2.5.1)\n",
      "Requirement already satisfied: catalogue<2.1.0,>=2.0.6 in c:\\users\\mridul\\appdata\\local\\programs\\python\\python312\\lib\\site-packages (from spacy) (2.0.10)\n",
      "Requirement already satisfied: weasel<0.5.0,>=0.1.0 in c:\\users\\mridul\\appdata\\local\\programs\\python\\python312\\lib\\site-packages (from spacy) (0.4.1)\n",
      "Requirement already satisfied: typer<1.0.0,>=0.3.0 in c:\\users\\mridul\\appdata\\local\\programs\\python\\python312\\lib\\site-packages (from spacy) (0.15.1)\n",
      "Requirement already satisfied: tqdm<5.0.0,>=4.38.0 in c:\\users\\mridul\\appdata\\local\\programs\\python\\python312\\lib\\site-packages (from spacy) (4.66.4)\n",
      "Requirement already satisfied: numpy>=1.19.0 in c:\\users\\mridul\\appdata\\local\\programs\\python\\python312\\lib\\site-packages (from spacy) (1.26.2)\n",
      "Requirement already satisfied: requests<3.0.0,>=2.13.0 in c:\\users\\mridul\\appdata\\local\\programs\\python\\python312\\lib\\site-packages (from spacy) (2.31.0)\n",
      "Requirement already satisfied: pydantic!=1.8,!=1.8.1,<3.0.0,>=1.7.4 in c:\\users\\mridul\\appdata\\local\\programs\\python\\python312\\lib\\site-packages (from spacy) (2.10.6)\n",
      "Requirement already satisfied: jinja2 in c:\\users\\mridul\\appdata\\local\\programs\\python\\python312\\lib\\site-packages (from spacy) (3.1.3)\n",
      "Requirement already satisfied: setuptools in c:\\users\\mridul\\appdata\\local\\programs\\python\\python312\\lib\\site-packages (from spacy) (70.1.1)\n",
      "Requirement already satisfied: packaging>=20.0 in c:\\users\\mridul\\appdata\\roaming\\python\\python312\\site-packages (from spacy) (23.2)\n",
      "Requirement already satisfied: langcodes<4.0.0,>=3.2.0 in c:\\users\\mridul\\appdata\\local\\programs\\python\\python312\\lib\\site-packages (from spacy) (3.5.0)\n",
      "Requirement already satisfied: click in c:\\users\\mridul\\appdata\\local\\programs\\python\\python312\\lib\\site-packages (from nltk) (8.1.7)\n",
      "Requirement already satisfied: joblib in c:\\users\\mridul\\appdata\\local\\programs\\python\\python312\\lib\\site-packages (from nltk) (1.4.0)\n",
      "Requirement already satisfied: regex>=2021.8.3 in c:\\users\\mridul\\appdata\\local\\programs\\python\\python312\\lib\\site-packages (from nltk) (2024.5.15)\n",
      "Requirement already satisfied: language-data>=1.2 in c:\\users\\mridul\\appdata\\local\\programs\\python\\python312\\lib\\site-packages (from langcodes<4.0.0,>=3.2.0->spacy) (1.3.0)\n",
      "Requirement already satisfied: annotated-types>=0.6.0 in c:\\users\\mridul\\appdata\\local\\programs\\python\\python312\\lib\\site-packages (from pydantic!=1.8,!=1.8.1,<3.0.0,>=1.7.4->spacy) (0.7.0)\n",
      "Requirement already satisfied: pydantic-core==2.27.2 in c:\\users\\mridul\\appdata\\local\\programs\\python\\python312\\lib\\site-packages (from pydantic!=1.8,!=1.8.1,<3.0.0,>=1.7.4->spacy) (2.27.2)\n",
      "Requirement already satisfied: typing-extensions>=4.12.2 in c:\\users\\mridul\\appdata\\local\\programs\\python\\python312\\lib\\site-packages (from pydantic!=1.8,!=1.8.1,<3.0.0,>=1.7.4->spacy) (4.12.2)\n",
      "Requirement already satisfied: charset-normalizer<4,>=2 in c:\\users\\mridul\\appdata\\local\\programs\\python\\python312\\lib\\site-packages (from requests<3.0.0,>=2.13.0->spacy) (3.3.2)\n",
      "Requirement already satisfied: idna<4,>=2.5 in c:\\users\\mridul\\appdata\\local\\programs\\python\\python312\\lib\\site-packages (from requests<3.0.0,>=2.13.0->spacy) (3.6)\n",
      "Requirement already satisfied: urllib3<3,>=1.21.1 in c:\\users\\mridul\\appdata\\local\\programs\\python\\python312\\lib\\site-packages (from requests<3.0.0,>=2.13.0->spacy) (2.2.1)\n",
      "Requirement already satisfied: certifi>=2017.4.17 in c:\\users\\mridul\\appdata\\local\\programs\\python\\python312\\lib\\site-packages (from requests<3.0.0,>=2.13.0->spacy) (2024.2.2)\n",
      "Requirement already satisfied: blis<1.3.0,>=1.2.0 in c:\\users\\mridul\\appdata\\local\\programs\\python\\python312\\lib\\site-packages (from thinc<8.4.0,>=8.3.4->spacy) (1.2.0)\n",
      "Requirement already satisfied: confection<1.0.0,>=0.0.1 in c:\\users\\mridul\\appdata\\local\\programs\\python\\python312\\lib\\site-packages (from thinc<8.4.0,>=8.3.4->spacy) (0.1.5)\n",
      "Requirement already satisfied: colorama in c:\\users\\mridul\\appdata\\roaming\\python\\python312\\site-packages (from tqdm<5.0.0,>=4.38.0->spacy) (0.4.6)\n",
      "Requirement already satisfied: shellingham>=1.3.0 in c:\\users\\mridul\\appdata\\local\\programs\\python\\python312\\lib\\site-packages (from typer<1.0.0,>=0.3.0->spacy) (1.5.4)\n",
      "Requirement already satisfied: rich>=10.11.0 in c:\\users\\mridul\\appdata\\local\\programs\\python\\python312\\lib\\site-packages (from typer<1.0.0,>=0.3.0->spacy) (13.7.1)\n",
      "Requirement already satisfied: cloudpathlib<1.0.0,>=0.7.0 in c:\\users\\mridul\\appdata\\local\\programs\\python\\python312\\lib\\site-packages (from weasel<0.5.0,>=0.1.0->spacy) (0.20.0)\n",
      "Requirement already satisfied: smart-open<8.0.0,>=5.2.1 in c:\\users\\mridul\\appdata\\local\\programs\\python\\python312\\lib\\site-packages (from weasel<0.5.0,>=0.1.0->spacy) (7.1.0)\n",
      "Requirement already satisfied: MarkupSafe>=2.0 in c:\\users\\mridul\\appdata\\local\\programs\\python\\python312\\lib\\site-packages (from jinja2->spacy) (2.1.5)\n",
      "Requirement already satisfied: marisa-trie>=1.1.0 in c:\\users\\mridul\\appdata\\local\\programs\\python\\python312\\lib\\site-packages (from language-data>=1.2->langcodes<4.0.0,>=3.2.0->spacy) (1.2.1)\n",
      "Requirement already satisfied: markdown-it-py>=2.2.0 in c:\\users\\mridul\\appdata\\local\\programs\\python\\python312\\lib\\site-packages (from rich>=10.11.0->typer<1.0.0,>=0.3.0->spacy) (3.0.0)\n",
      "Requirement already satisfied: pygments<3.0.0,>=2.13.0 in c:\\users\\mridul\\appdata\\roaming\\python\\python312\\site-packages (from rich>=10.11.0->typer<1.0.0,>=0.3.0->spacy) (2.17.2)\n",
      "Requirement already satisfied: wrapt in c:\\users\\mridul\\appdata\\local\\programs\\python\\python312\\lib\\site-packages (from smart-open<8.0.0,>=5.2.1->weasel<0.5.0,>=0.1.0->spacy) (1.16.0)\n",
      "Requirement already satisfied: mdurl~=0.1 in c:\\users\\mridul\\appdata\\local\\programs\\python\\python312\\lib\\site-packages (from markdown-it-py>=2.2.0->rich>=10.11.0->typer<1.0.0,>=0.3.0->spacy) (0.1.2)\n",
      "Collecting en-core-web-sm==3.8.0"
     ]
    },
    {
     "name": "stderr",
     "output_type": "stream",
     "text": [
      "C:\\Users\\Mridul\\AppData\\Local\\Programs\\Python\\Python312\\Lib\\site-packages\\torch\\utils\\_pytree.py:185: FutureWarning: optree is installed but the version is too old to support PyTorch Dynamo in C++ pytree. C++ pytree support is disabled. Please consider upgrading optree using `python3 -m pip install --upgrade 'optree>=0.13.0'`.\n",
      "  warnings.warn(\n"
     ]
    },
    {
     "name": "stdout",
     "output_type": "stream",
     "text": [
      "\n",
      "  Using cached https://github.com/explosion/spacy-models/releases/download/en_core_web_sm-3.8.0/en_core_web_sm-3.8.0-py3-none-any.whl (12.8 MB)\n",
      "\u001b[38;5;2m[+] Download and installation successful\u001b[0m\n",
      "You can now load the package via spacy.load('en_core_web_sm')\n",
      "Requirement already satisfied: pip in c:\\users\\mridul\\appdata\\local\\programs\\python\\python312\\lib\\site-packages (25.0.1)\n"
     ]
    }
   ],
   "source": [
    "from gensim.models import Word2Vec\n",
    "from sklearn.metrics.pairwise import cosine_similarity\n",
    "from preprocessing import preprocess_text\n",
    "from taskidentification import extract_tasks"
   ]
  },
  {
   "cell_type": "code",
   "execution_count": 10,
   "id": "094df87a-9b32-4db7-b890-f52d76fff22d",
   "metadata": {},
   "outputs": [
    {
     "data": {
      "text/plain": [
       "(80, 420)"
      ]
     },
     "execution_count": 10,
     "metadata": {},
     "output_type": "execute_result"
    }
   ],
   "source": [
    "# Predefined categories\n",
    "predefined_categories = [\n",
    "    \"Deep Learning & Image Processing\",\n",
    "    \"Web Development & JavaScript\",\n",
    "    \"Chatbots & Transformers\",\n",
    "    \"NLP & Data Preprocessing\",\n",
    "    \"Database Optimization\",\n",
    "    \"Hybrid Chatbot & Web\",\n",
    "    \"Computer Vision & Accident Detection\"\n",
    "]\n",
    "\n",
    "\n",
    "def prepare_category_training_data(categories):\n",
    "    return [preprocess_text(cat)[\"tokens\"] for cat in categories]\n",
    "\n",
    "training_sentences = prepare_category_training_data(predefined_categories)\n",
    "\n",
    "\n",
    "# Train Word2Vec model once\n",
    "w2v_model = Word2Vec(\n",
    "    vector_size=100,\n",
    "    window=5,\n",
    "    min_count=1,\n",
    "    workers=4,\n",
    "    seed=42\n",
    ")\n",
    "w2v_model.build_vocab(training_sentences)\n",
    "w2v_model.train(training_sentences, total_examples=w2v_model.corpus_count, epochs=20)"
   ]
  },
  {
   "cell_type": "code",
   "execution_count": 11,
   "id": "81c78db2-4262-4899-9377-488d88c129ba",
   "metadata": {},
   "outputs": [],
   "source": [
    "def get_phrase_vector(phrase, model):\n",
    "    \"\"\"\n",
    "    Get average vector for a phrase based on its tokens.\n",
    "    \"\"\"\n",
    "    if isinstance(phrase, dict):\n",
    "        words = phrase.get(\"tokens\", phrase.get(\"task\", \"\"))\n",
    "        if isinstance(words, str):\n",
    "            words = words.split()\n",
    "    elif isinstance(phrase, list):\n",
    "        words = phrase\n",
    "    else:\n",
    "        words = phrase.split()\n",
    "        \n",
    "    vectors = [model.wv[word] for word in words if word in model.wv]\n",
    "    return np.mean(vectors, axis=0) if vectors else None\n",
    "\n",
    "# Precompute category vectors\n",
    "precomputed_category_vectors = {}\n",
    "for category in predefined_categories:\n",
    "    cat_processed = preprocess_text(category)\n",
    "    cat_vector = get_phrase_vector(cat_processed, w2v_model)\n",
    "    precomputed_category_vectors[category] = cat_vector\n",
    "\n",
    "def find_best_category_phrase(task, categories, model, threshold=0.2):\n",
    "    \"\"\"\n",
    "    Find the best matching category for a given task.\n",
    "    \"\"\"\n",
    "    task_text = task.get(\"task\", \"\") if isinstance(task, dict) else task\n",
    "    task_processed = preprocess_text(task_text)\n",
    "    task_vector = get_phrase_vector(task_processed, model)\n",
    "    if task_vector is None:\n",
    "        return None\n",
    "    \n",
    "    best_category = None\n",
    "    max_similarity = -1\n",
    "    for category in categories:\n",
    "        cat_vector = precomputed_category_vectors.get(category)\n",
    "        if cat_vector is not None:\n",
    "            sim = cosine_similarity(task_vector.reshape(1, -1), cat_vector.reshape(1, -1))[0][0]\n",
    "            if sim > max_similarity:\n",
    "                max_similarity = sim\n",
    "                best_category = category\n",
    "    return best_category if max_similarity >= threshold else None\n",
    "\n",
    "# Load spaCy model once (suppressing extra logs)\n",
    "nlp = spacy.load(\"en_core_web_sm\", disable=[\"ner\", \"tagger\"])\n",
    "\n",
    "def extract_fallback_category(task_input):\n",
    "    \"\"\"\n",
    "    Use spaCy to extract a fallback category based on the task's verb structure.\n",
    "    \"\"\"\n",
    "    task_text = task_input.get(\"task\", \"\") if isinstance(task_input, dict) else task_input\n",
    "    doc = nlp(task_text)\n",
    "    # Try subordinate verb\n",
    "    for token in doc:\n",
    "        if token.pos_ == \"VERB\" and token.dep_ in (\"xcomp\", \"advcl\", \"conj\"):\n",
    "            dobj = next((child for child in token.children if child.dep_ in (\"dobj\", \"obj\")), None)\n",
    "            if dobj:\n",
    "                return f\"{dobj.lemma_} {token.lemma_} task\"\n",
    "    # Try ROOT verb\n",
    "    for token in doc:\n",
    "        if token.pos_ == \"VERB\" and token.dep_ == \"ROOT\":\n",
    "            dobj = next((child for child in token.children if child.dep_ in (\"dobj\", \"obj\")), None)\n",
    "            return f\"{dobj.lemma_} {token.lemma_} task\" if dobj else f\"{token.lemma_} task\"\n",
    "    return \"other task\""
   ]
  },
  {
   "cell_type": "code",
   "execution_count": 12,
   "id": "705fd621-6d35-4876-b7f5-06c473590d09",
   "metadata": {},
   "outputs": [],
   "source": [
    "def task_pipeline(user_input):\n",
    "    \"\"\"\n",
    "    Main pipeline: Extract tasks from input text, match them to predefined categories,\n",
    "    and apply fallback categorization if needed.\n",
    "    \"\"\"\n",
    "    tasks = extract_tasks(user_input)\n",
    "    print(\"Extracted Tasks:\")\n",
    "    for t in tasks:\n",
    "        print(\" -\", t)\n",
    "    \n",
    "    final_mapping = {}\n",
    "    for task in tasks:\n",
    "        task_text = task.get(\"task\", \"\") if isinstance(task, dict) else task\n",
    "        match = find_best_category_phrase(task, predefined_categories, w2v_model, threshold=0.2)\n",
    "        final_mapping[task_text] = match if match else extract_fallback_category(task)\n",
    "    return final_mapping"
   ]
  },
  {
   "cell_type": "code",
   "execution_count": null,
   "id": "b5db296f-b7ac-4db8-8183-30083d8c5561",
   "metadata": {},
   "outputs": [],
   "source": []
  }
 ],
 "metadata": {
  "kernelspec": {
   "display_name": "Python 3 (ipykernel)",
   "language": "python",
   "name": "python3"
  },
  "language_info": {
   "codemirror_mode": {
    "name": "ipython",
    "version": 3
   },
   "file_extension": ".py",
   "mimetype": "text/x-python",
   "name": "python",
   "nbconvert_exporter": "python",
   "pygments_lexer": "ipython3",
   "version": "3.12.3"
  }
 },
 "nbformat": 4,
 "nbformat_minor": 5
}
